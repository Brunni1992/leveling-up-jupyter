{
 "cells": [
  {
   "cell_type": "code",
   "execution_count": 1,
   "metadata": {
    "collapsed": true,
    "deletable": true,
    "editable": true
   },
   "outputs": [],
   "source": [
    "import pandas as pd\n",
    "import matplotlib.pyplot as plt\n",
    "import sklearn\n",
    "import seaborn as sns\n",
    "\n",
    "%matplotlib inline"
   ]
  },
  {
   "cell_type": "code",
   "execution_count": 3,
   "metadata": {
    "collapsed": false,
    "deletable": true,
    "editable": true
   },
   "outputs": [
    {
     "name": "stdout",
     "output_type": "stream",
     "text": [
      "Simple.ipynb \u001b[1m\u001b[36msnippets\u001b[m\u001b[m\r\n"
     ]
    }
   ],
   "source": [
    "!ls"
   ]
  },
  {
   "cell_type": "code",
   "execution_count": 2,
   "metadata": {
    "collapsed": false,
    "deletable": true,
    "editable": true
   },
   "outputs": [
    {
     "name": "stdout",
     "output_type": "stream",
     "text": [
      "Requirement already satisfied: pandas in /Users/ggruben/anaconda3/lib/python3.5/site-packages\n",
      "Requirement already satisfied: matplotlib in /Users/ggruben/anaconda3/lib/python3.5/site-packages\n",
      "Requirement already satisfied: sklearn in /Users/ggruben/.local/lib/python3.5/site-packages\n",
      "Requirement already satisfied: seaborn in /Users/ggruben/anaconda3/lib/python3.5/site-packages\n",
      "Requirement already satisfied: python-dateutil>=2 in /Users/ggruben/anaconda3/lib/python3.5/site-packages (from pandas)\n",
      "Requirement already satisfied: pytz>=2011k in /Users/ggruben/.local/lib/python3.5/site-packages (from pandas)\n",
      "Requirement already satisfied: numpy>=1.7.0 in /Users/ggruben/anaconda3/lib/python3.5/site-packages (from pandas)\n",
      "Requirement already satisfied: six>=1.10 in /Users/ggruben/anaconda3/lib/python3.5/site-packages (from matplotlib)\n",
      "Requirement already satisfied: cycler>=0.10 in /Users/ggruben/anaconda3/lib/python3.5/site-packages (from matplotlib)\n",
      "Requirement already satisfied: pyparsing!=2.0.4,!=2.1.2,!=2.1.6,>=1.5.6 in /Users/ggruben/anaconda3/lib/python3.5/site-packages (from matplotlib)\n",
      "Requirement already satisfied: scikit-learn in /Users/ggruben/anaconda3/lib/python3.5/site-packages (from sklearn)\n"
     ]
    }
   ],
   "source": [
    "!pip install --user pandas matplotlib sklearn seaborn"
   ]
  },
  {
   "cell_type": "code",
   "execution_count": 9,
   "metadata": {
    "collapsed": false,
    "deletable": true,
    "editable": true
   },
   "outputs": [
    {
     "name": "stdout",
     "output_type": "stream",
     "text": [
      "Collecting version_information\n",
      "  Downloading version_information-1.0.3.tar.gz\n",
      "Building wheels for collected packages: version-information\n",
      "  Running setup.py bdist_wheel for version-information ... \u001b[?25l-\b \b\\\b \b|\b \b/\b \b-\b \bdone\n",
      "\u001b[?25h  Stored in directory: /Users/ggruben/Library/Caches/pip/wheels/4b/4c/f7/4d99d7820a507d8ae55204fcc00d66cdabf596d4b01228e7bd\n",
      "Successfully built version-information\n",
      "Installing collected packages: version-information\n",
      "Successfully installed version-information-1.0.3\n"
     ]
    }
   ],
   "source": [
    "!pip install version_information"
   ]
  },
  {
   "cell_type": "code",
   "execution_count": 10,
   "metadata": {
    "collapsed": false,
    "deletable": true,
    "editable": true
   },
   "outputs": [
    {
     "data": {
      "application/json": {
       "Software versions": [
        {
         "module": "Python",
         "version": "3.5.3 64bit [GCC 4.2.1 Compatible Apple LLVM 6.0 (clang-600.0.57)]"
        },
        {
         "module": "IPython",
         "version": "5.3.0"
        },
        {
         "module": "OS",
         "version": "Darwin 16.5.0 x86_64 i386 64bit"
        },
        {
         "module": "pandas",
         "version": "0.19.2"
        },
        {
         "module": "sklearn",
         "version": "0.18.1"
        }
       ]
      },
      "text/html": [
       "<table><tr><th>Software</th><th>Version</th></tr><tr><td>Python</td><td>3.5.3 64bit [GCC 4.2.1 Compatible Apple LLVM 6.0 (clang-600.0.57)]</td></tr><tr><td>IPython</td><td>5.3.0</td></tr><tr><td>OS</td><td>Darwin 16.5.0 x86_64 i386 64bit</td></tr><tr><td>pandas</td><td>0.19.2</td></tr><tr><td>sklearn</td><td>0.18.1</td></tr><tr><td colspan='2'>Wed Jun 28 11:31:06 2017 CEST</td></tr></table>"
      ],
      "text/latex": [
       "\\begin{tabular}{|l|l|}\\hline\n",
       "{\\bf Software} & {\\bf Version} \\\\ \\hline\\hline\n",
       "Python & 3.5.3 64bit [GCC 4.2.1 Compatible Apple LLVM 6.0 (clang-600.0.57)] \\\\ \\hline\n",
       "IPython & 5.3.0 \\\\ \\hline\n",
       "OS & Darwin 16.5.0 x86\\_64 i386 64bit \\\\ \\hline\n",
       "pandas & 0.19.2 \\\\ \\hline\n",
       "sklearn & 0.18.1 \\\\ \\hline\n",
       "\\hline \\multicolumn{2}{|l|}{Wed Jun 28 11:31:06 2017 CEST} \\\\ \\hline\n",
       "\\end{tabular}\n"
      ],
      "text/plain": [
       "Software versions\n",
       "Python 3.5.3 64bit [GCC 4.2.1 Compatible Apple LLVM 6.0 (clang-600.0.57)]\n",
       "IPython 5.3.0\n",
       "OS Darwin 16.5.0 x86_64 i386 64bit\n",
       "pandas 0.19.2\n",
       "sklearn 0.18.1\n",
       "Wed Jun 28 11:31:06 2017 CEST"
      ]
     },
     "execution_count": 10,
     "metadata": {},
     "output_type": "execute_result"
    }
   ],
   "source": [
    "%load_ext version_information\n",
    "%version_information pandas, sklearn"
   ]
  },
  {
   "cell_type": "code",
   "execution_count": 4,
   "metadata": {
    "collapsed": true,
    "deletable": true,
    "editable": true
   },
   "outputs": [],
   "source": [
    "from somemodule import hello"
   ]
  },
  {
   "cell_type": "code",
   "execution_count": 5,
   "metadata": {
    "collapsed": false,
    "deletable": true,
    "editable": true
   },
   "outputs": [
    {
     "name": "stdout",
     "output_type": "stream",
     "text": [
      "Helo Word!\n"
     ]
    }
   ],
   "source": [
    "hello()"
   ]
  },
  {
   "cell_type": "code",
   "execution_count": 6,
   "metadata": {
    "collapsed": false,
    "deletable": true,
    "editable": true
   },
   "outputs": [
    {
     "name": "stdout",
     "output_type": "stream",
     "text": [
      "Hello Word!\n"
     ]
    }
   ],
   "source": [
    "hello()"
   ]
  },
  {
   "cell_type": "code",
   "execution_count": null,
   "metadata": {
    "collapsed": true,
    "deletable": true,
    "editable": true
   },
   "outputs": [],
   "source": [
    "del hello"
   ]
  },
  {
   "cell_type": "code",
   "execution_count": 1,
   "metadata": {
    "collapsed": true,
    "deletable": true,
    "editable": true
   },
   "outputs": [],
   "source": [
    "%load_ext autoreload\n",
    "%autoreload 2"
   ]
  },
  {
   "cell_type": "code",
   "execution_count": null,
   "metadata": {
    "collapsed": true,
    "deletable": true,
    "editable": true
   },
   "outputs": [],
   "source": [
    "from somemodule import hello"
   ]
  },
  {
   "cell_type": "code",
   "execution_count": null,
   "metadata": {
    "collapsed": true,
    "deletable": true,
    "editable": true
   },
   "outputs": [],
   "source": [
    "hello()"
   ]
  },
  {
   "cell_type": "code",
   "execution_count": null,
   "metadata": {
    "collapsed": true,
    "deletable": true,
    "editable": true
   },
   "outputs": [],
   "source": [
    "hello()"
   ]
  },
  {
   "cell_type": "code",
   "execution_count": 11,
   "metadata": {
    "collapsed": true,
    "deletable": true,
    "editable": true
   },
   "outputs": [],
   "source": [
    "from IPython.display import FileLink"
   ]
  },
  {
   "cell_type": "code",
   "execution_count": 12,
   "metadata": {
    "collapsed": false,
    "deletable": true,
    "editable": true
   },
   "outputs": [
    {
     "data": {
      "text/html": [
       "<a href='Simple.ipynb' target='_blank'>Simple.ipynb</a><br>"
      ],
      "text/plain": [
       "/Users/ggruben/projects/leveling-up-jupyter/notebooks/Simple.ipynb"
      ]
     },
     "execution_count": 12,
     "metadata": {},
     "output_type": "execute_result"
    }
   ],
   "source": [
    "FileLink(\"Simple.ipynb\")"
   ]
  }
 ],
 "metadata": {
  "kernelspec": {
   "display_name": "Python 3",
   "language": "python",
   "name": "python3"
  },
  "language_info": {
   "codemirror_mode": {
    "name": "ipython",
    "version": 3
   },
   "file_extension": ".py",
   "mimetype": "text/x-python",
   "name": "python",
   "nbconvert_exporter": "python",
   "pygments_lexer": "ipython3",
   "version": "3.5.3"
  }
 },
 "nbformat": 4,
 "nbformat_minor": 2
}
